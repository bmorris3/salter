{
 "cells": [
  {
   "cell_type": "code",
   "execution_count": 1,
   "metadata": {
    "collapsed": true
   },
   "outputs": [],
   "source": [
    "%matplotlib inline\n",
    "import numpy as np\n",
    "import pandas as pd\n",
    "import matplotlib.pyplot as plt\n",
    "import matplotlib.cm as cm\n",
    "import matplotlib\n",
    "\n",
    "from astropy import table\n",
    "\n",
    "matplotlib.rcParams.update({'font.size':18})\n",
    "matplotlib.rcParams.update({'font.family':'serif'})"
   ]
  },
  {
   "cell_type": "code",
   "execution_count": 2,
   "metadata": {},
   "outputs": [],
   "source": [
    "file = 'data/stats_table.csv'\n",
    "\n",
    "df = pd.read_csv(file)"
   ]
  },
  {
   "cell_type": "code",
   "execution_count": 3,
   "metadata": {},
   "outputs": [
    {
     "name": "stdout",
     "output_type": "stream",
     "text": [
      "ttest:in_transit&before_midtransit-vs-in_transit&after_midtransit\n",
      "ks:in_transit-vs-out_of_transit\n",
      "ttest:out_of_transit&before_midtransit-vs-out_of_transit&after_midtransit\n",
      "ks:out_of_transit&before_midtransit-vs-out_of_transit&after_midtransit\n",
      "kepid\n",
      "ks:in_transit&before_midtransit-vs-in_transit&after_midtransit\n",
      "ttest:in_transit-vs-out_of_transit\n",
      "anderson:out_of_transit&before_midtransit-vs-out_of_transit&after_midtransit\n",
      "anderson:in_transit&before_midtransit-vs-in_transit&after_midtransit\n",
      "anderson:in_transit-vs-out_of_transit\n",
      "A\n",
      "AUPPER\n",
      "ALOWER\n",
      "UA\n",
      "AREF\n",
      "AURL\n",
      "AR\n",
      "ARUPPER\n",
      "ARLOWER\n",
      "UAR\n",
      "ARREF\n",
      "ARURL\n",
      "ASTROMETRY\n",
      "B\n",
      "BUPPER\n",
      "BLOWER\n",
      "UB\n",
      "BREF\n",
      "BURL\n",
      "BIGOM\n",
      "BIGOMUPPER\n",
      "BIGOMLOWER\n",
      "UBIGOM\n",
      "BIGOMREF\n",
      "BIGOMURL\n",
      "BINARY\n",
      "BINARYREF\n",
      "BINARYURL\n",
      "BMV\n",
      "CHI2\n",
      "COMP\n",
      "DATE\n",
      "DEC\n",
      "DEC_STRING\n",
      "DENSITY\n",
      "DENSITYUPPER\n",
      "DENSITYLOWER\n",
      "UDENSITY\n",
      "DENSITYREF\n",
      "DENSITYURL\n",
      "DEPTH\n",
      "DEPTHUPPER\n",
      "DEPTHLOWER\n",
      "UDEPTH\n",
      "DEPTHREF\n",
      "DEPTHURL\n",
      "DIST\n",
      "DISTUPPER\n",
      "DISTLOWER\n",
      "UDIST\n",
      "DISTREF\n",
      "DISTURL\n",
      "DR\n",
      "DRUPPER\n",
      "DRLOWER\n",
      "UDR\n",
      "DRREF\n",
      "DRURL\n",
      "DVDT\n",
      "DVDTUPPER\n",
      "DVDTLOWER\n",
      "UDVDT\n",
      "DVDTREF\n",
      "DVDTURL\n",
      "EANAME\n",
      "EAURL\n",
      "ECC\n",
      "ECCUPPER\n",
      "ECCLOWER\n",
      "UECC\n",
      "ECCREF\n",
      "ECCURL\n",
      "EOD\n",
      "ETDNAME\n",
      "ETDURL\n",
      "FE\n",
      "FEUPPER\n",
      "FELOWER\n",
      "UFE\n",
      "FEREF\n",
      "FEURL\n",
      "FIRSTREF\n",
      "FIRSTURL\n",
      "FREEZE_ECC\n",
      "GAMMA\n",
      "GAMMAUPPER\n",
      "GAMMALOWER\n",
      "UGAMMA\n",
      "GAMMAREF\n",
      "GAMMAURL\n",
      "GL\n",
      "GRAVITY\n",
      "GRAVITYUPPER\n",
      "GRAVITYLOWER\n",
      "UGRAVITY\n",
      "GRAVITYREF\n",
      "GRAVITYURL\n",
      "H\n",
      "HD\n",
      "HIPP\n",
      "HR\n",
      "I\n",
      "IUPPER\n",
      "ILOWER\n",
      "UI\n",
      "IREF\n",
      "IURL\n",
      "IMAGING\n",
      "J\n",
      "JSNAME\n",
      "EPEURL\n",
      "K\n",
      "KUPPER\n",
      "KLOWER\n",
      "UK\n",
      "KREF\n",
      "KURL\n",
      "KOI\n",
      "KS\n",
      "KP\n",
      "LAMBDA\n",
      "LAMBDAUPPER\n",
      "LAMBDALOWER\n",
      "ULAMBDA\n",
      "LAMBDAREF\n",
      "LAMBDAURL\n",
      "LOGG\n",
      "LOGGUPPER\n",
      "LOGGLOWER\n",
      "ULOGG\n",
      "LOGGREF\n",
      "LOGGURL\n",
      "MASS\n",
      "MASSUPPER\n",
      "MASSLOWER\n",
      "UMASS\n",
      "MASSREF\n",
      "MASSURL\n",
      "MICROLENSING\n",
      "MSINI\n",
      "MSINIUPPER\n",
      "MSINILOWER\n",
      "UMSINI\n",
      "MSINIREF\n",
      "MSINIURL\n",
      "MSTAR\n",
      "MSTARUPPER\n",
      "MSTARLOWER\n",
      "UMSTAR\n",
      "MSTARREF\n",
      "MSTARURL\n",
      "MULT\n",
      "NAME\n",
      "NCOMP\n",
      "NOBS\n",
      "OM\n",
      "OMUPPER\n",
      "OMLOWER\n",
      "UOM\n",
      "OMREF\n",
      "OMURL\n",
      "ORBREF\n",
      "ORBURL\n",
      "OTHERNAME\n",
      "PAR\n",
      "PARUPPER\n",
      "PARLOWER\n",
      "UPAR\n",
      "PER\n",
      "PERUPPER\n",
      "PERLOWER\n",
      "UPER\n",
      "PERREF\n",
      "PERURL\n",
      "PLANETDISCMETH\n",
      "R\n",
      "RUPPER\n",
      "RLOWER\n",
      "UR\n",
      "RREF\n",
      "RURL\n",
      "RA\n",
      "RA_STRING\n",
      "RHK\n",
      "RHOSTAR\n",
      "RHOSTARUPPER\n",
      "RHOSTARLOWER\n",
      "URHOSTAR\n",
      "RHOSTARREF\n",
      "RHOSTARURL\n",
      "RMS\n",
      "RR\n",
      "RRUPPER\n",
      "RRLOWER\n",
      "URR\n",
      "RRREF\n",
      "RRURL\n",
      "RSTAR\n",
      "RSTARUPPER\n",
      "RSTARLOWER\n",
      "URSTAR\n",
      "RSTARREF\n",
      "RSTARURL\n",
      "SAO\n",
      "SE\n",
      "SEREF\n",
      "SEURL\n",
      "SEDEPTHJ\n",
      "SEDEPTHJUPPER\n",
      "SEDEPTHJLOWER\n",
      "USEDEPTHJ\n",
      "SEDEPTHJREF\n",
      "SEDEPTHJURL\n",
      "SEDEPTHH\n",
      "SEDEPTHHUPPER\n",
      "SEDEPTHHLOWER\n",
      "USEDEPTHH\n",
      "SEDEPTHHREF\n",
      "SEDEPTHHURL\n",
      "SEDEPTHKS\n",
      "SEDEPTHKSUPPER\n",
      "SEDEPTHKSLOWER\n",
      "USEDEPTHKS\n",
      "SEDEPTHKSREF\n",
      "SEDEPTHKSURL\n",
      "SEDEPTHKP\n",
      "SEDEPTHKPUPPER\n",
      "SEDEPTHKPLOWER\n",
      "USEDEPTHKP\n",
      "SEDEPTHKPREF\n",
      "SEDEPTHKPURL\n",
      "SEDEPTH36\n",
      "SEDEPTH36UPPER\n",
      "SEDEPTH36LOWER\n",
      "USEDEPTH36\n",
      "SEDEPTH36REF\n",
      "SEDEPTH36URL\n",
      "SEDEPTH45\n",
      "SEDEPTH45UPPER\n",
      "SEDEPTH45LOWER\n",
      "USEDEPTH45\n",
      "SEDEPTH45REF\n",
      "SEDEPTH45URL\n",
      "SEDEPTH58\n",
      "SEDEPTH58UPPER\n",
      "SEDEPTH58LOWER\n",
      "USEDEPTH58\n",
      "SEDEPTH58REF\n",
      "SEDEPTH58URL\n",
      "SEDEPTH80\n",
      "SEDEPTH80UPPER\n",
      "SEDEPTH80LOWER\n",
      "USEDEPTH80\n",
      "SEDEPTH80REF\n",
      "SEDEPTH80URL\n",
      "SEP\n",
      "SEPUPPER\n",
      "SEPLOWER\n",
      "USEP\n",
      "SEPREF\n",
      "SEPURL\n",
      "SET\n",
      "SETUPPER\n",
      "SETLOWER\n",
      "USET\n",
      "SETREF\n",
      "SETURL\n",
      "SHK\n",
      "SIMBADNAME\n",
      "SIMBADURL\n",
      "SPECREF\n",
      "SPECURL\n",
      "STAR\n",
      "STARDISCMETH\n",
      "T0\n",
      "T0UPPER\n",
      "T0LOWER\n",
      "UT0\n",
      "T0REF\n",
      "T0URL\n",
      "T14\n",
      "T14UPPER\n",
      "T14LOWER\n",
      "UT14\n",
      "T14REF\n",
      "T14URL\n",
      "TEFF\n",
      "TEFFUPPER\n",
      "TEFFLOWER\n",
      "UTEFF\n",
      "TEFFREF\n",
      "TEFFURL\n",
      "TIMING\n",
      "TRANSIT\n",
      "TRANSITREF\n",
      "TRANSITURL\n",
      "TREND\n",
      "TT\n",
      "TTUPPER\n",
      "TTLOWER\n",
      "UTT\n",
      "TTREF\n",
      "TTURL\n",
      "V\n",
      "VREF\n",
      "VURL\n",
      "VSINI\n",
      "VSINIUPPER\n",
      "VSINILOWER\n",
      "UVSINI\n",
      "VSINIREF\n",
      "VSINIURL\n",
      "KEPID\n",
      "KDE\n",
      "kepoi_name\n",
      "kepler_name\n",
      "koi_disposition\n",
      "koi_pdisposition\n",
      "koi_score\n",
      "koi_fpflag_nt\n",
      "koi_fpflag_ss\n",
      "koi_fpflag_co\n",
      "koi_fpflag_ec\n",
      "koi_period\n",
      "koi_period_err1\n",
      "koi_period_err2\n",
      "koi_time0bk\n",
      "koi_time0bk_err1\n",
      "koi_time0bk_err2\n",
      "koi_impact\n",
      "koi_impact_err1\n",
      "koi_impact_err2\n",
      "koi_duration\n",
      "koi_duration_err1\n",
      "koi_duration_err2\n",
      "koi_depth\n",
      "koi_depth_err1\n",
      "koi_depth_err2\n",
      "koi_prad\n",
      "koi_prad_err1\n",
      "koi_prad_err2\n",
      "koi_teq\n",
      "koi_teq_err1\n",
      "koi_teq_err2\n",
      "koi_insol\n",
      "koi_insol_err1\n",
      "koi_insol_err2\n",
      "koi_model_snr\n",
      "koi_tce_plnt_num\n",
      "koi_tce_delivname\n",
      "koi_steff\n",
      "koi_steff_err1\n",
      "koi_steff_err2\n",
      "koi_slogg\n",
      "koi_slogg_err1\n",
      "koi_slogg_err2\n",
      "koi_srad\n",
      "koi_srad_err1\n",
      "koi_srad_err2\n",
      "ra_str\n",
      "dec_str\n",
      "koi_kepmag\n",
      "koi_kepmag_err\n"
     ]
    }
   ],
   "source": [
    "for s in df.columns:\n",
    "    print(s)"
   ]
  },
  {
   "cell_type": "code",
   "execution_count": 4,
   "metadata": {
    "scrolled": false
   },
   "outputs": [
    {
     "name": "stderr",
     "output_type": "stream",
     "text": [
      "/Users/james/anaconda/lib/python2.7/site-packages/ipykernel/__main__.py:1: RuntimeWarning: divide by zero encountered in log10\n",
      "  if __name__ == '__main__':\n"
     ]
    },
    {
     "data": {
      "text/plain": [
       "<matplotlib.text.Text at 0x117356990>"
      ]
     },
     "execution_count": 4,
     "metadata": {},
     "output_type": "execute_result"
    },
    {
     "data": {
      "image/png": "[encoded data removed]",
      "text/plain": [
       "<matplotlib.figure.Figure at 0x10de50210>"
      ]
     },
     "metadata": {},
     "output_type": "display_data"
    }
   ],
   "source": [
    "plt.scatter(df['B'], np.log10(df.iloc[:,1]))\n",
    "plt.xscale('log')\n",
    "plt.xlim(1e-3,1)\n",
    "plt.xlabel('Impact Parameter (B)')\n",
    "plt.ylabel('log KS (in vs out)')"
   ]
  },
  {
   "cell_type": "code",
   "execution_count": 5,
   "metadata": {},
   "outputs": [
    {
     "name": "stderr",
     "output_type": "stream",
     "text": [
      "/Users/james/anaconda/lib/python2.7/site-packages/ipykernel/__main__.py:1: RuntimeWarning: divide by zero encountered in log10\n",
      "  if __name__ == '__main__':\n"
     ]
    },
    {
     "data": {
      "text/plain": [
       "<matplotlib.text.Text at 0x11731be10>"
      ]
     },
     "execution_count": 5,
     "metadata": {},
     "output_type": "execute_result"
    },
    {
     "data": {
      "image/png": "[encoded data removed]",
      "text/plain": [
       "<matplotlib.figure.Figure at 0x117356350>"
      ]
     },
     "metadata": {},
     "output_type": "display_data"
    }
   ],
   "source": [
    "plt.scatter(df['B'], np.log10(df.iloc[:,9]))\n",
    "plt.xscale('log')\n",
    "plt.xlim(1e-3,1)\n",
    "plt.xlabel('Impact Parameter (B)')\n",
    "plt.ylabel('log Anderson (in vs out)')"
   ]
  },
  {
   "cell_type": "code",
   "execution_count": 6,
   "metadata": {},
   "outputs": [
    {
     "data": {
      "text/plain": [
       "<matplotlib.text.Text at 0x11782c3d0>"
      ]
     },
     "execution_count": 6,
     "metadata": {},
     "output_type": "execute_result"
    },
    {
     "data": {
      "image/png": "[encoded data removed]",
      "text/plain": [
       "<matplotlib.figure.Figure at 0x10de50710>"
      ]
     },
     "metadata": {},
     "output_type": "display_data"
    }
   ],
   "source": [
    "plt.scatter(df['B'], np.log10(df.iloc[:,3]))\n",
    "plt.xscale('log')\n",
    "plt.xlim(1e-3,1)\n",
    "plt.xlabel('Impact Parameter (B)')\n",
    "plt.ylabel('log KS (before vs after)')"
   ]
  },
  {
   "cell_type": "code",
   "execution_count": 7,
   "metadata": {},
   "outputs": [
    {
     "data": {
      "text/plain": [
       "<matplotlib.text.Text at 0x117daf210>"
      ]
     },
     "execution_count": 7,
     "metadata": {},
     "output_type": "execute_result"
    },
    {
     "data": {
      "image/png": "[encoded data removed]",
      "text/plain": [
       "<matplotlib.figure.Figure at 0x1177bb190>"
      ]
     },
     "metadata": {},
     "output_type": "display_data"
    }
   ],
   "source": [
    "plt.scatter(df['B'], np.log10(df.iloc[:,2]))\n",
    "plt.xscale('log')\n",
    "plt.xlim(1e-3,1)\n",
    "plt.xlabel('Impact Parameter (B)')\n",
    "plt.ylabel('log TTest (before vs after)')"
   ]
  },
  {
   "cell_type": "code",
   "execution_count": 8,
   "metadata": {},
   "outputs": [],
   "source": [
    "# cuts:\n",
    "sum((np.log10(df.iloc[:,3]) > -1.5) & \n",
    "    (np.log10(df.iloc[:,2]) > -1))\n",
    "\n",
    "ok = (np.log10(df.iloc[:,3]) > -1.5) & (np.log10(df.iloc[:,2]) > -1)"
   ]
  },
  {
   "cell_type": "code",
   "execution_count": 9,
   "metadata": {},
   "outputs": [
    {
     "name": "stderr",
     "output_type": "stream",
     "text": [
      "/Users/james/anaconda/lib/python2.7/site-packages/ipykernel/__main__.py:1: RuntimeWarning: divide by zero encountered in log10\n",
      "  if __name__ == '__main__':\n",
      "/Users/james/anaconda/lib/python2.7/site-packages/ipykernel/__main__.py:2: RuntimeWarning: divide by zero encountered in log10\n",
      "  from ipykernel import kernelapp as app\n"
     ]
    },
    {
     "data": {
      "text/plain": [
       "<matplotlib.text.Text at 0x117f79350>"
      ]
     },
     "execution_count": 9,
     "metadata": {},
     "output_type": "execute_result"
    },
    {
     "data": {
      "image/png": "[encoded data removed]",
      "text/plain": [
       "<matplotlib.figure.Figure at 0x117fc3110>"
      ]
     },
     "metadata": {},
     "output_type": "display_data"
    }
   ],
   "source": [
    "plt.scatter(df['B'], np.log10(df.iloc[:,1]), s=5, c='r',alpha=0.5)\n",
    "plt.scatter(df['B'][ok], np.log10(df.iloc[:,1])[ok])\n",
    "plt.xscale('log')\n",
    "plt.xlim(1e-3,1)\n",
    "plt.xlabel('Impact Parameter (B)')\n",
    "plt.ylabel('log KS (in vs out)')"
   ]
  },
  {
   "cell_type": "code",
   "execution_count": 10,
   "metadata": {},
   "outputs": [
    {
     "data": {
      "text/plain": [
       "<matplotlib.text.Text at 0x118137dd0>"
      ]
     },
     "execution_count": 10,
     "metadata": {},
     "output_type": "execute_result"
    },
    {
     "data": {
      "image/png": "[encoded data removed]",
      "text/plain": [
       "<matplotlib.figure.Figure at 0x117c10b90>"
      ]
     },
     "metadata": {},
     "output_type": "display_data"
    }
   ],
   "source": [
    "plt.scatter(df['B'], np.log10(df.iloc[:,6]), s=5, c='r',alpha=0.5)\n",
    "plt.scatter(df['B'][ok], np.log10(df.iloc[:,6])[ok])\n",
    "plt.xscale('log')\n",
    "plt.xlim(1e-3,1)\n",
    "plt.xlabel('Impact Parameter (B)')\n",
    "plt.ylabel('log TTest (in vs out)')"
   ]
  },
  {
   "cell_type": "code",
   "execution_count": 14,
   "metadata": {},
   "outputs": [
    {
     "name": "stderr",
     "output_type": "stream",
     "text": [
      "/Users/james/anaconda/lib/python2.7/site-packages/ipykernel/__main__.py:1: RuntimeWarning: divide by zero encountered in log10\n",
      "  if __name__ == '__main__':\n",
      "/Users/james/anaconda/lib/python2.7/site-packages/ipykernel/__main__.py:2: RuntimeWarning: divide by zero encountered in log10\n",
      "  from ipykernel import kernelapp as app\n"
     ]
    },
    {
     "data": {
      "text/plain": [
       "<matplotlib.text.Text at 0x1188696d0>"
      ]
     },
     "execution_count": 14,
     "metadata": {},
     "output_type": "execute_result"
    },
    {
     "data": {
      "image/png": "[encoded data removed]",
      "text/plain": [
       "<matplotlib.figure.Figure at 0x118508b10>"
      ]
     },
     "metadata": {},
     "output_type": "display_data"
    }
   ],
   "source": [
    "plt.scatter(df['B'], np.log10(df.iloc[:,9]), s=5, c='r',alpha=0.5)\n",
    "plt.scatter(df['B'][ok], np.log10(df.iloc[:,9])[ok])\n",
    "plt.xscale('log')\n",
    "plt.xlim(1e-3,1)\n",
    "plt.xlabel('Impact Parameter (B)')\n",
    "plt.ylabel('log Anderson (in vs out)')\n"
   ]
  },
  {
   "cell_type": "code",
   "execution_count": null,
   "metadata": {
    "collapsed": true
   },
   "outputs": [],
   "source": []
  }
 ],
 "metadata": {
  "kernelspec": {
   "display_name": "Python [Root]",
   "language": "python",
   "name": "Python [Root]"
  },
  "language_info": {
   "codemirror_mode": {
    "name": "ipython",
    "version": 2
   },
   "file_extension": ".py",
   "mimetype": "text/x-python",
   "name": "python",
   "nbconvert_exporter": "python",
   "pygments_lexer": "ipython2",
   "version": "2.7.13"
  }
 },
 "nbformat": 4,
 "nbformat_minor": 2
}
