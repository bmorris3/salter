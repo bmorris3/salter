{
 "cells": [
  {
   "cell_type": "code",
   "execution_count": 62,
   "metadata": {
    "collapsed": true,
    "scrolled": true
   },
   "outputs": [],
   "source": [
    "%matplotlib inline\n",
    "%config InlineBackend.figure_format = \"retina\"\n",
    "\n",
    "from salter import (LightCurve, subtract_add_divide, concatenate_transit_light_curves, \n",
    "                    Residuals, lc_archive, planet_props)\n",
    "import matplotlib.pyplot as plt\n",
    "import numpy as np\n",
    "import warnings\n",
    "from astropy.stats import mad_std\n",
    "from itertools import product\n",
    "from astropy.utils.console import ProgressBar"
   ]
  },
  {
   "cell_type": "code",
   "execution_count": 2,
   "metadata": {
    "collapsed": true,
    "scrolled": true
   },
   "outputs": [],
   "source": [
    "kic_number = 9651668\n",
    "extra_oot_time = 1.5 # [durations]; Extra transit durations to keep before ingress/after egress"
   ]
  },
  {
   "cell_type": "code",
   "execution_count": 19,
   "metadata": {
    "collapsed": true
   },
   "outputs": [],
   "source": [
    "stats_tests = ['ks', 'anderson', 'ttest']\n",
    "\n",
    "comparisons = [(['out_of_transit', 'before_midtransit'], ['out_of_transit', 'after_midtransit']),\n",
    "               (['in_transit', 'before_midtransit'], ['in_transit', 'after_midtransit']),\n",
    "               ('in_transit', 'out_of_transit')]"
   ]
  },
  {
   "cell_type": "code",
   "execution_count": 63,
   "metadata": {
    "collapsed": true
   },
   "outputs": [],
   "source": [
    "def test_conditions_to_key(test, conditions):\n",
    "    \"\"\"\n",
    "    Convert a given test and conditions into a key for the table\n",
    "    \"\"\"\n",
    "    unpacked_conditions = [(condition if type(condition) is not list else \n",
    "                       '&'.join(map(\"{0}\".format, condition))) \n",
    "                       for condition in conditions]\n",
    "    key = \"{0}:{1}\".format(test, '-vs-'.join(map(\"{0}\".format, unpacked_conditions)))\n",
    "    return key"
   ]
  },
  {
   "cell_type": "code",
   "execution_count": 65,
   "metadata": {
    "collapsed": false,
    "scrolled": false
   },
   "outputs": [
    {
     "name": "stderr",
     "output_type": "stream",
     "text": [
      "/Users/bmmorris/anaconda/lib/python3.5/site-packages/astropy/time/core.py:880: VisibleDeprecationWarning: converting an array with ndim > 0 to an index will result in an error in the future\n",
      "  jd1 = apply_method(jd1)\n",
      "/Users/bmmorris/anaconda/lib/python3.5/site-packages/astropy/time/core.py:881: VisibleDeprecationWarning: converting an array with ndim > 0 to an index will result in an error in the future\n",
      "  jd2 = apply_method(jd2)\n",
      "/Users/bmmorris/git/salter/salter/lightcurve.py:347: VisibleDeprecationWarning: converting an array with ndim > 0 to an index will result in an error in the future\n",
      "  fluxes=self.fluxes[start_ind:end_ind],\n",
      "/Users/bmmorris/git/salter/salter/lightcurve.py:348: VisibleDeprecationWarning: converting an array with ndim > 0 to an index will result in an error in the future\n",
      "  errors=self.errors[start_ind:end_ind],\n",
      "/Users/bmmorris/git/salter/salter/lightcurve.py:349: VisibleDeprecationWarning: converting an array with ndim > 0 to an index will result in an error in the future\n",
      "  quarters=self.quarters[start_ind:end_ind],\n",
      "/Users/bmmorris/anaconda/lib/python3.5/site-packages/scipy/stats/morestats.py:1694: UserWarning: approximate p-value will be computed by extrapolation\n",
      "  warnings.warn(\"approximate p-value will be computed by extrapolation\")\n"
     ]
    },
    {
     "name": "stdout",
     "output_type": "stream",
     "text": [
      "\n"
     ]
    }
   ],
   "source": [
    "results = dict()\n",
    "\n",
    "results['kepid'] = []\n",
    "\n",
    "for test, conditions in product(stats_tests, comparisons):\n",
    "    key = test_conditions_to_key(test, conditions)\n",
    "    results[key] = []\n",
    "\n",
    "with warnings.catch_warnings():\n",
    "    warnings.simplefilter(\"ignore\", category=np.RankWarning)\n",
    "    \n",
    "    with ProgressBar(len(list(lc_archive.file.keys())), ipython_widget=True) as bar:\n",
    "        for kic_number in list(lc_archive.file.keys()):\n",
    "            bar.update()\n",
    "\n",
    "            if int(kic_number) in planet_props.table['kepid'].data.data:\n",
    "                whole_lc = LightCurve.from_hdf5(int(kic_number))\n",
    "\n",
    "                if whole_lc.params.per > 1:\n",
    "                    # Mask out-of-transit portions of light curves, chop into individual transits\n",
    "                    mask_oot = whole_lc.mask_out_of_transit(oot_duration_fraction=extra_oot_time)\n",
    "                    near_transit = LightCurve(**mask_oot)\n",
    "                    transits = near_transit.get_transit_light_curves()\n",
    "\n",
    "                    # Normalize all transits with the subtract-add-divide method, \n",
    "                    # using a second order polynomial\n",
    "                    subtract_add_divide(whole_lc, transits)\n",
    "\n",
    "                    normed_transits = concatenate_transit_light_curves(transits)\n",
    "\n",
    "                    normed_transits.fit_lc_3param()\n",
    "\n",
    "                    r = Residuals(normed_transits, normed_transits.params, \n",
    "                                  buffer_duration=0.3)\n",
    "                    #r.plot()\n",
    "\n",
    "                    #mad = mad_std(r.residuals)\n",
    "\n",
    "                    #plt.ylim([-5*mad, 5*mad])\n",
    "\n",
    "                    #ks_pvalue = r.ks(['out_of_transit', 'before_midtransit'], \n",
    "                    #                 ['out_of_transit', 'after_midtransit'])\n",
    "                    #print(ks_pvalue)\n",
    "                    #plt.title(\"$p = {0}$\".format(ks_pvalue))\n",
    "                    #plt.show()\n",
    "\n",
    "                    # Skip any transits with only a few data points in or out-of-transit\n",
    "                    if np.count_nonzero(r.in_transit) > 10 and np.count_nonzero(r.out_of_transit) > 10:\n",
    "                        results[\"kepid\"].append(int(kic_number))\n",
    "\n",
    "                        # Test every combination of the statistical tests and the \n",
    "                        # different samples of data\n",
    "\n",
    "                        for test, conditions in product(stats_tests, comparisons):\n",
    "                            try: \n",
    "                                result = getattr(r, test)(*conditions)\n",
    "                            except ValueError: \n",
    "                                result = np.nan\n",
    "                                \n",
    "                            key = test_conditions_to_key(test, conditions)\n",
    "\n",
    "                            results[key].append(result)"
   ]
  },
  {
   "cell_type": "code",
   "execution_count": 66,
   "metadata": {
    "collapsed": false
   },
   "outputs": [],
   "source": [
    "from astropy.table import join, Table\n",
    "\n",
    "results_table = Table(results)"
   ]
  },
  {
   "cell_type": "code",
   "execution_count": 67,
   "metadata": {
    "collapsed": false
   },
   "outputs": [
    {
     "data": {
      "text/html": [
       "&lt;Table length=115&gt;\n",
       "<table id=\"table4843580160\" class=\"table-striped table-bordered table-condensed\">\n",
       "<thead><tr><th>ttest:in_transit&amp;before_midtransit-vs-in_transit&amp;after_midtransit</th><th>ks:in_transit-vs-out_of_transit</th><th>ttest:out_of_transit&amp;before_midtransit-vs-out_of_transit&amp;after_midtransit</th><th>ks:out_of_transit&amp;before_midtransit-vs-out_of_transit&amp;after_midtransit</th><th>kepid</th><th>ks:in_transit&amp;before_midtransit-vs-in_transit&amp;after_midtransit</th><th>ttest:in_transit-vs-out_of_transit</th><th>anderson:out_of_transit&amp;before_midtransit-vs-out_of_transit&amp;after_midtransit</th><th>anderson:in_transit&amp;before_midtransit-vs-in_transit&amp;after_midtransit</th><th>anderson:in_transit-vs-out_of_transit</th></tr></thead>\n",
       "<thead><tr><th>float64</th><th>float64</th><th>float64</th><th>float64</th><th>int64</th><th>float64</th><th>float64</th><th>float64</th><th>float64</th><th>float64</th></tr></thead>\n",
       "<tr><td>0.615606256054</td><td>7.08493591844e-06</td><td>0.0123002843251</td><td>0.652507071641</td><td>10016874</td><td>0.983153920932</td><td>0.56464109712</td><td>0.528690341763</td><td>0.977284604332</td><td>3.78117891855e-05</td></tr>\n",
       "<tr><td>0.534180958888</td><td>0.184045033965</td><td>0.699365431948</td><td>0.834429910396</td><td>10386922</td><td>0.671480072534</td><td>0.0360437650221</td><td>0.644508965423</td><td>0.829482934437</td><td>0.0864610485944</td></tr>\n",
       "<tr><td>0.611076283512</td><td>3.22643283846e-11</td><td>0.143921794025</td><td>0.215534159195</td><td>10676824</td><td>0.890154942487</td><td>0.000336269559257</td><td>0.229599331719</td><td>0.794655049814</td><td>0.000546866844414</td></tr>\n",
       "<tr><td>0.0924791357029</td><td>0.000953141206636</td><td>0.581969596567</td><td>0.70945759715</td><td>10747501</td><td>0.476023970229</td><td>0.143786084943</td><td>0.902672605831</td><td>0.380564984662</td><td>0.000452700553876</td></tr>\n",
       "<tr><td>0.928155241945</td><td>0.00962014737895</td><td>0.734152405156</td><td>0.685214989613</td><td>10788461</td><td>0.849660457882</td><td>0.00272608085583</td><td>0.6654305787</td><td>0.824789798842</td><td>0.000740413019249</td></tr>\n",
       "<tr><td>0.356737091595</td><td>3.16762013756e-41</td><td>0.60282088011</td><td>0.493162061714</td><td>10815677</td><td>0.837652943921</td><td>0.259680052864</td><td>0.713136791227</td><td>0.828574327775</td><td>2.11867197242e+221</td></tr>\n",
       "<tr><td>0.523568678878</td><td>5.01738644986e-14</td><td>0.97054928576</td><td>0.785392397602</td><td>10878263</td><td>0.757754078715</td><td>0.0732895336564</td><td>0.486040510875</td><td>0.627236141919</td><td>0.0306546999902</td></tr>\n",
       "<tr><td>0.22817173043</td><td>2.88861716981e-08</td><td>0.743503045962</td><td>0.656411202486</td><td>10905239</td><td>0.21766339066</td><td>0.340942048681</td><td>0.686507169427</td><td>0.31568529021</td><td>8.99162125067e-05</td></tr>\n",
       "<tr><td>0.966107852228</td><td>3.72307971591e-61</td><td>0.748959148498</td><td>0.238382617733</td><td>11073656</td><td>0.701059687066</td><td>0.28838597511</td><td>0.340891079486</td><td>0.374872377772</td><td>0.0</td></tr>\n",
       "<tr><td>0.925443064038</td><td>2.25392329797e-86</td><td>0.894172212786</td><td>0.83290863816</td><td>11244682</td><td>0.491854429599</td><td>0.000520034930067</td><td>0.957561408159</td><td>0.551571344061</td><td>0.0</td></tr>\n",
       "<tr><td>...</td><td>...</td><td>...</td><td>...</td><td>...</td><td>...</td><td>...</td><td>...</td><td>...</td><td>...</td></tr>\n",
       "<tr><td>0.627523695318</td><td>4.91069893589e-09</td><td>0.828171025307</td><td>0.83129616073</td><td>9244756</td><td>0.671686946667</td><td>7.87763839988e-07</td><td>0.92069873428</td><td>0.482694514063</td><td>4.11222513823e-05</td></tr>\n",
       "<tr><td>0.033927600271</td><td>9.66651201089e-19</td><td>0.911886562742</td><td>0.130837491082</td><td>9269281</td><td>0.0823912197669</td><td>6.12570216604e-05</td><td>0.115576505062</td><td>0.0359451047898</td><td>641.609366421</td></tr>\n",
       "<tr><td>0.0641906076907</td><td>6.25260681315e-05</td><td>0.292593545842</td><td>0.431203535417</td><td>9480310</td><td>0.30031232292</td><td>0.068900883981</td><td>0.701484594113</td><td>0.0896578178248</td><td>0.000262161707441</td></tr>\n",
       "<tr><td>0.772745751216</td><td>1.40240205927e-148</td><td>0.832420119281</td><td>0.382140025357</td><td>9595827</td><td>0.527296026635</td><td>6.51296273374e-21</td><td>0.419463742981</td><td>0.369088003681</td><td>0.0</td></tr>\n",
       "<tr><td>0.925086514142</td><td>2.98028616523e-98</td><td>0.982990206942</td><td>0.395227740404</td><td>9631995</td><td>0.917759339757</td><td>0.796641729496</td><td>0.305351686424</td><td>0.770343229395</td><td>0.0</td></tr>\n",
       "<tr><td>0.997721335972</td><td>4.3555266809e-158</td><td>0.360891184951</td><td>0.809005577631</td><td>9651668</td><td>0.565868977788</td><td>9.34031770807e-20</td><td>0.490137445974</td><td>0.72303236513</td><td>0.0</td></tr>\n",
       "<tr><td>0.839708120149</td><td>0.0046695326388</td><td>0.331064416292</td><td>0.149031474347</td><td>9655711</td><td>0.998722923389</td><td>0.180477396336</td><td>0.187947166214</td><td>1.07018752069</td><td>0.00394738777353</td></tr>\n",
       "<tr><td>0.938839287631</td><td>1.50174203627e-182</td><td>0.785118278466</td><td>0.785047627317</td><td>9705459</td><td>0.9602573155</td><td>0.591226077767</td><td>0.316907759958</td><td>0.994273652362</td><td>0.0</td></tr>\n",
       "<tr><td>0.760926309361</td><td>0.225859324742</td><td>0.564820721952</td><td>0.838050124344</td><td>9836149</td><td>0.999792024575</td><td>0.850486151544</td><td>0.702052318017</td><td>1.10075332006</td><td>0.0920759513492</td></tr>\n",
       "<tr><td>0.275903405905</td><td>0.0966936111698</td><td>0.585132620147</td><td>0.0668946521544</td><td>9967009</td><td>0.628130989207</td><td>0.743720309097</td><td>0.279295530498</td><td>0.296563923915</td><td>0.0916582548664</td></tr>\n",
       "</table>"
      ],
      "text/plain": [
       "<Table length=115>\n",
       "ttest:in_transit&before_midtransit-vs-in_transit&after_midtransit ...\n",
       "                             float64                              ...\n",
       "----------------------------------------------------------------- ...\n",
       "                                                   0.615606256054 ...\n",
       "                                                   0.534180958888 ...\n",
       "                                                   0.611076283512 ...\n",
       "                                                  0.0924791357029 ...\n",
       "                                                   0.928155241945 ...\n",
       "                                                   0.356737091595 ...\n",
       "                                                   0.523568678878 ...\n",
       "                                                    0.22817173043 ...\n",
       "                                                   0.966107852228 ...\n",
       "                                                   0.925443064038 ...\n",
       "                                                              ... ...\n",
       "                                                   0.627523695318 ...\n",
       "                                                   0.033927600271 ...\n",
       "                                                  0.0641906076907 ...\n",
       "                                                   0.772745751216 ...\n",
       "                                                   0.925086514142 ...\n",
       "                                                   0.997721335972 ...\n",
       "                                                   0.839708120149 ...\n",
       "                                                   0.938839287631 ...\n",
       "                                                   0.760926309361 ...\n",
       "                                                   0.275903405905 ..."
      ]
     },
     "execution_count": 67,
     "metadata": {},
     "output_type": "execute_result"
    }
   ],
   "source": [
    "results_table"
   ]
  },
  {
   "cell_type": "code",
   "execution_count": 68,
   "metadata": {
    "collapsed": true
   },
   "outputs": [],
   "source": [
    "from salter import get_planets_table\n",
    "\n",
    "planets_table = get_planets_table()"
   ]
  },
  {
   "cell_type": "code",
   "execution_count": 72,
   "metadata": {
    "collapsed": false
   },
   "outputs": [],
   "source": [
    "stats_table = join(results_table, planets_table, keys='kepid')"
   ]
  },
  {
   "cell_type": "code",
   "execution_count": 75,
   "metadata": {
    "collapsed": false
   },
   "outputs": [
    {
     "name": "stderr",
     "output_type": "stream",
     "text": [
      "WARNING: AstropyDeprecationWarning: data/stats_table.csv already exists. Automatically overwriting ASCII files is deprecated. Use the argument 'overwrite=True' in the future. [astropy.io.ascii.ui]\n"
     ]
    }
   ],
   "source": [
    "from astropy.io import ascii\n",
    "\n",
    "ascii.write(stats_table, 'data/stats_table.csv', format='csv', delimiter=',')"
   ]
  },
  {
   "cell_type": "code",
   "execution_count": null,
   "metadata": {
    "collapsed": true
   },
   "outputs": [],
   "source": []
  }
 ],
 "metadata": {
  "kernelspec": {
   "display_name": "Python 3",
   "language": "python",
   "name": "python3"
  },
  "language_info": {
   "codemirror_mode": {
    "name": "ipython",
    "version": 3
   },
   "file_extension": ".py",
   "mimetype": "text/x-python",
   "name": "python",
   "nbconvert_exporter": "python",
   "pygments_lexer": "ipython3",
   "version": "3.5.2"
  }
 },
 "nbformat": 4,
 "nbformat_minor": 0
}
