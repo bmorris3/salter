{
 "cells": [
  {
   "cell_type": "markdown",
   "metadata": {},
   "source": [
    "### Create a stats table for analysis on each target"
   ]
  },
  {
   "cell_type": "code",
   "execution_count": 62,
   "metadata": {
    "collapsed": true,
    "scrolled": true
   },
   "outputs": [],
   "source": [
    "%matplotlib inline\n",
    "%config InlineBackend.figure_format = \"retina\"\n",
    "\n",
    "from salter import (LightCurve, subtract_add_divide, concatenate_transit_light_curves, \n",
    "                    Residuals, lc_archive, planet_props)\n",
    "import matplotlib.pyplot as plt\n",
    "import numpy as np\n",
    "import warnings\n",
    "from astropy.stats import mad_std\n",
    "from itertools import product\n",
    "from astropy.utils.console import ProgressBar"
   ]
  },
  {
   "cell_type": "code",
   "execution_count": 2,
   "metadata": {
    "collapsed": true,
    "scrolled": true
   },
   "outputs": [],
   "source": [
    "extra_oot_time = 1.5 # [durations]; Extra transit durations to keep before ingress/after egress"
   ]
  },
  {
   "cell_type": "markdown",
   "metadata": {},
   "source": [
    "We will take every combination of the statistical tests available on the `Residuals` object, with every interesting combination of data samples. The combinations of data samples include: \n",
    "\n",
    "* in-transit vs. out-of-transit\n",
    "* out-of-transit before midtransit vs. out-of-transit after midtransit\n",
    "* in-transit before midtransit vs. in-transit after midtransit"
   ]
  },
  {
   "cell_type": "code",
   "execution_count": 19,
   "metadata": {
    "collapsed": true
   },
   "outputs": [],
   "source": [
    "stats_tests = ['ks', 'anderson', 'ttest']\n",
    "\n",
    "comparisons = [(['out_of_transit', 'before_midtransit'], ['out_of_transit', 'after_midtransit']),\n",
    "               (['in_transit', 'before_midtransit'], ['in_transit', 'after_midtransit']),\n",
    "               ('in_transit', 'out_of_transit')]\n",
    "\n",
    "def test_conditions_to_key(test, conditions):\n",
    "    \"\"\"\n",
    "    Convert a given test and conditions into a key for the table\n",
    "    \"\"\"\n",
    "    unpacked_conditions = [(condition if type(condition) is not list else \n",
    "                       '&'.join(map(\"{0}\".format, condition))) \n",
    "                       for condition in conditions]\n",
    "    key = \"{0}:{1}\".format(test, '-vs-'.join(map(\"{0}\".format, unpacked_conditions)))\n",
    "    return key"
   ]
  },
  {
   "cell_type": "markdown",
   "metadata": {},
   "source": [
    "Compute statistics on each available light curve"
   ]
  },
  {
   "cell_type": "code",
   "execution_count": 65,
   "metadata": {
    "collapsed": false,
    "scrolled": false
   },
   "outputs": [
    {
     "name": "stderr",
     "output_type": "stream",
     "text": [
      "/Users/bmmorris/anaconda/lib/python3.5/site-packages/astropy/time/core.py:880: VisibleDeprecationWarning: converting an array with ndim > 0 to an index will result in an error in the future\n",
      "  jd1 = apply_method(jd1)\n",
      "/Users/bmmorris/anaconda/lib/python3.5/site-packages/astropy/time/core.py:881: VisibleDeprecationWarning: converting an array with ndim > 0 to an index will result in an error in the future\n",
      "  jd2 = apply_method(jd2)\n",
      "/Users/bmmorris/git/salter/salter/lightcurve.py:347: VisibleDeprecationWarning: converting an array with ndim > 0 to an index will result in an error in the future\n",
      "  fluxes=self.fluxes[start_ind:end_ind],\n",
      "/Users/bmmorris/git/salter/salter/lightcurve.py:348: VisibleDeprecationWarning: converting an array with ndim > 0 to an index will result in an error in the future\n",
      "  errors=self.errors[start_ind:end_ind],\n",
      "/Users/bmmorris/git/salter/salter/lightcurve.py:349: VisibleDeprecationWarning: converting an array with ndim > 0 to an index will result in an error in the future\n",
      "  quarters=self.quarters[start_ind:end_ind],\n",
      "/Users/bmmorris/anaconda/lib/python3.5/site-packages/scipy/stats/morestats.py:1694: UserWarning: approximate p-value will be computed by extrapolation\n",
      "  warnings.warn(\"approximate p-value will be computed by extrapolation\")\n"
     ]
    },
    {
     "name": "stdout",
     "output_type": "stream",
     "text": [
      "\n"
     ]
    }
   ],
   "source": [
    "results = dict()\n",
    "\n",
    "results['kepid'] = []\n",
    "\n",
    "for test, conditions in product(stats_tests, comparisons):\n",
    "    key = test_conditions_to_key(test, conditions)\n",
    "    results[key] = []\n",
    "\n",
    "with warnings.catch_warnings():\n",
    "    warnings.simplefilter(\"ignore\", category=np.RankWarning)\n",
    "    \n",
    "    with ProgressBar(len(list(lc_archive.file.keys())), ipython_widget=True) as bar:\n",
    "        for kic_number in list(lc_archive.file.keys()):\n",
    "            bar.update()\n",
    "\n",
    "            if int(kic_number) in planet_props.table['kepid'].data.data:\n",
    "                whole_lc = LightCurve.from_hdf5(int(kic_number))\n",
    "\n",
    "                if whole_lc.params.per > 1:\n",
    "                    # Mask out-of-transit portions of light curves, chop into individual transits\n",
    "                    mask_oot = whole_lc.mask_out_of_transit(oot_duration_fraction=extra_oot_time)\n",
    "                    near_transit = LightCurve(**mask_oot)\n",
    "                    transits = near_transit.get_transit_light_curves()\n",
    "\n",
    "                    # Normalize all transits with the subtract-add-divide method, \n",
    "                    # using a second order polynomial\n",
    "                    subtract_add_divide(whole_lc, transits)\n",
    "\n",
    "                    normed_transits = concatenate_transit_light_curves(transits)\n",
    "\n",
    "                    normed_transits.fit_lc_3param()\n",
    "\n",
    "                    r = Residuals(normed_transits, normed_transits.params, \n",
    "                                  buffer_duration=0.3)\n",
    "                    #r.plot()\n",
    "\n",
    "                    #mad = mad_std(r.residuals)\n",
    "\n",
    "                    #plt.ylim([-5*mad, 5*mad])\n",
    "\n",
    "                    #ks_pvalue = r.ks(['out_of_transit', 'before_midtransit'], \n",
    "                    #                 ['out_of_transit', 'after_midtransit'])\n",
    "                    #print(ks_pvalue)\n",
    "                    #plt.title(\"$p = {0}$\".format(ks_pvalue))\n",
    "                    #plt.show()\n",
    "\n",
    "                    # Skip any transits with only a few data points in or out-of-transit\n",
    "                    if np.count_nonzero(r.in_transit) > 10 and np.count_nonzero(r.out_of_transit) > 10:\n",
    "                        results[\"kepid\"].append(int(kic_number))\n",
    "\n",
    "                        # Test every combination of the statistical tests and the \n",
    "                        # different samples of data\n",
    "\n",
    "                        for test, conditions in product(stats_tests, comparisons):\n",
    "                            try: \n",
    "                                result = getattr(r, test)(*conditions)\n",
    "                            except ValueError: \n",
    "                                result = np.nan\n",
    "                                \n",
    "                            key = test_conditions_to_key(test, conditions)\n",
    "\n",
    "                            results[key].append(result)"
   ]
  },
  {
   "cell_type": "markdown",
   "metadata": {},
   "source": [
    "Put the statistical results into a `Table` object"
   ]
  },
  {
   "cell_type": "code",
   "execution_count": 66,
   "metadata": {
    "collapsed": false
   },
   "outputs": [],
   "source": [
    "from astropy.table import join, Table\n",
    "\n",
    "results_table = Table(results)"
   ]
  },
  {
   "cell_type": "markdown",
   "metadata": {},
   "source": [
    "Open the planet properties table (with columns from NASA Exoplanet Archive and Exoplanet Orbit Database)"
   ]
  },
  {
   "cell_type": "code",
   "execution_count": 68,
   "metadata": {
    "collapsed": true
   },
   "outputs": [],
   "source": [
    "from salter import get_planets_table\n",
    "\n",
    "planets_table = get_planets_table()"
   ]
  },
  {
   "cell_type": "markdown",
   "metadata": {},
   "source": [
    "Join the NEA+EOD table with the stats results table"
   ]
  },
  {
   "cell_type": "code",
   "execution_count": 72,
   "metadata": {
    "collapsed": false
   },
   "outputs": [],
   "source": [
    "stats_table = join(results_table, planets_table, keys='kepid')"
   ]
  },
  {
   "cell_type": "markdown",
   "metadata": {},
   "source": [
    "Write the table to disk:"
   ]
  },
  {
   "cell_type": "code",
   "execution_count": 75,
   "metadata": {
    "collapsed": false
   },
   "outputs": [
    {
     "name": "stderr",
     "output_type": "stream",
     "text": [
      "WARNING: AstropyDeprecationWarning: data/stats_table.csv already exists. Automatically overwriting ASCII files is deprecated. Use the argument 'overwrite=True' in the future. [astropy.io.ascii.ui]\n"
     ]
    }
   ],
   "source": [
    "from astropy.io import ascii\n",
    "\n",
    "ascii.write(stats_table, 'data/stats_table.csv', format='csv', delimiter=',')"
   ]
  },
  {
   "cell_type": "code",
   "execution_count": null,
   "metadata": {
    "collapsed": true
   },
   "outputs": [],
   "source": []
  }
 ],
 "metadata": {
  "kernelspec": {
   "display_name": "Python 3",
   "language": "python",
   "name": "python3"
  },
  "language_info": {
   "codemirror_mode": {
    "name": "ipython",
    "version": 3
   },
   "file_extension": ".py",
   "mimetype": "text/x-python",
   "name": "python",
   "nbconvert_exporter": "python",
   "pygments_lexer": "ipython3",
   "version": "3.5.2"
  }
 },
 "nbformat": 4,
 "nbformat_minor": 0
}
