{
 "cells": [
  {
   "cell_type": "code",
   "execution_count": 1,
   "metadata": {
    "collapsed": false
   },
   "outputs": [],
   "source": [
    "%matplotlib inline\n",
    "%config InlineBackend.figure_format = \"retina\"\n",
    "\n",
    "import matplotlib.pyplot as plt\n",
    "import numpy as np\n",
    "from astroquery.exoplanet_orbit_database import ExoplanetOrbitDatabase\n",
    "import astropy.units as u"
   ]
  },
  {
   "cell_type": "code",
   "execution_count": 2,
   "metadata": {
    "collapsed": true
   },
   "outputs": [],
   "source": [
    "table = ExoplanetOrbitDatabase.get_table(cache=True)"
   ]
  },
  {
   "cell_type": "code",
   "execution_count": 3,
   "metadata": {
    "collapsed": false
   },
   "outputs": [],
   "source": [
    "# Make some cuts!\n",
    "\n",
    "impact_parameter_cuts = (table['B'] < 0.8) & (table['B'] > 0) & np.logical_not(table['B'].mask)\n",
    "teff_cuts = (table['TEFF'] < 6100*u.K) & (table['TEFF'] > 5500*u.K) & np.logical_not(table['TEFF'].mask)\n",
    "kepler_cut = np.logical_not(table['KEPID'].mask)\n",
    "\n",
    "all_cuts = impact_parameter_cuts & teff_cuts & kepler_cut\n",
    "\n",
    "cut_table = table[all_cuts]"
   ]
  },
  {
   "cell_type": "code",
   "execution_count": 10,
   "metadata": {
    "collapsed": false
   },
   "outputs": [
    {
     "name": "stdout",
     "output_type": "stream",
     "text": [
      "161\n"
     ]
    },
    {
     "data": {
      "text/plain": [
       "(array([  34.,  119.,  353.,  153.,   20.,    8.,   12.,    2.,    6.,    5.]),\n",
       " array([-5.72423535, -4.22168416, -2.71913297, -1.21658179,  0.2859694 ,\n",
       "         1.78852058,  3.29107177,  4.79362296,  6.29617414,  7.79872533,\n",
       "         9.30127651]),\n",
       " <a list of 10 Patch objects>)"
      ]
     },
     "execution_count": 10,
     "metadata": {},
     "output_type": "execute_result"
    },
    {
     "data": {
      "image/png": "[encoded data removed]",
      "text/plain": [
       "<matplotlib.figure.Figure at 0x124a8b630>"
      ]
     },
     "metadata": {
      "image/png": {
       "height": 250,
       "width": 380
      }
     },
     "output_type": "display_data"
    }
   ],
   "source": [
    "score = cut_table['DEPTH'] * cut_table['T14'] / cut_table['KP'] / cut_table['PER']\n",
    "\n",
    "high_score_targets = np.log(score) > -1\n",
    "\n",
    "print(np.count_nonzero(high_score_targets))\n",
    "plt.hist(np.log(score))"
   ]
  },
  {
   "cell_type": "code",
   "execution_count": 14,
   "metadata": {
    "collapsed": false
   },
   "outputs": [],
   "source": [
    "from astropy.io import ascii\n",
    "\n",
    "ascii.write(cut_table[high_score_targets]['KEPID'], 'data/kics.csv')"
   ]
  },
  {
   "cell_type": "code",
   "execution_count": null,
   "metadata": {
    "collapsed": true
   },
   "outputs": [],
   "source": []
  }
 ],
 "metadata": {
  "kernelspec": {
   "display_name": "Python 3",
   "language": "python",
   "name": "python3"
  },
  "language_info": {
   "codemirror_mode": {
    "name": "ipython",
    "version": 3
   },
   "file_extension": ".py",
   "mimetype": "text/x-python",
   "name": "python",
   "nbconvert_exporter": "python",
   "pygments_lexer": "ipython3",
   "version": "3.5.2"
  }
 },
 "nbformat": 4,
 "nbformat_minor": 0
}
