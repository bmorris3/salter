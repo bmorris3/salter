{
 "cells": [
  {
   "cell_type": "markdown",
   "metadata": {},
   "source": [
    "## Select targets to study\n",
    "\n",
    "Choosing targets with: \n",
    "* impact parameter $b < 0.8$\n",
    "* effective temperature T_eff:  $5500 < T_{eff} < 6100$\n",
    "* kepler LC light curves\n",
    "\n",
    "Write those targets out to `data/kics.csv`"
   ]
  },
  {
   "cell_type": "code",
   "execution_count": 1,
   "metadata": {
    "collapsed": false
   },
   "outputs": [],
   "source": [
    "%matplotlib inline\n",
    "%config InlineBackend.figure_format = \"retina\"\n",
    "\n",
    "import matplotlib.pyplot as plt\n",
    "import numpy as np\n",
    "from astroquery.exoplanet_orbit_database import ExoplanetOrbitDatabase\n",
    "import astropy.units as u\n",
    "from astropy.io import ascii\n"
   ]
  },
  {
   "cell_type": "code",
   "execution_count": 2,
   "metadata": {
    "collapsed": true
   },
   "outputs": [],
   "source": [
    "table = ExoplanetOrbitDatabase.get_table(cache=True)"
   ]
  },
  {
   "cell_type": "code",
   "execution_count": 3,
   "metadata": {
    "collapsed": false
   },
   "outputs": [],
   "source": [
    "# Make some cuts!\n",
    "\n",
    "impact_parameter_cuts = (table['B'] < 0.8) & (table['B'] > 0) & np.logical_not(table['B'].mask)\n",
    "teff_cuts = (table['TEFF'] < 6100*u.K) & (table['TEFF'] > 5500*u.K) & np.logical_not(table['TEFF'].mask)\n",
    "kepler_cut = np.logical_not(table['KEPID'].mask)\n",
    "\n",
    "all_cuts = impact_parameter_cuts & teff_cuts & kepler_cut\n",
    "\n",
    "cut_table = table[all_cuts]"
   ]
  },
  {
   "cell_type": "code",
   "execution_count": 4,
   "metadata": {
    "collapsed": false
   },
   "outputs": [
    {
     "name": "stdout",
     "output_type": "stream",
     "text": [
      "Number of stars after cuts: 161\n"
     ]
    },
    {
     "data": {
      "image/png": "[encoded data removed]",
      "text/plain": [
       "<matplotlib.figure.Figure at 0x126e03dd8>"
      ]
     },
     "metadata": {
      "image/png": {
       "height": 263,
       "width": 394
      }
     },
     "output_type": "display_data"
    }
   ],
   "source": [
    "score = cut_table['DEPTH'] * cut_table['T14'] / cut_table['KP'] / cut_table['PER']\n",
    "\n",
    "high_score_targets = np.log(score) > -1\n",
    "\n",
    "print(\"Number of stars after cuts:\", np.count_nonzero(high_score_targets))\n",
    "plt.hist(np.log(score))\n",
    "plt.ylabel('#')\n",
    "plt.xlabel('log(Score)')\n",
    "plt.show()"
   ]
  },
  {
   "cell_type": "code",
   "execution_count": 7,
   "metadata": {
    "collapsed": false
   },
   "outputs": [],
   "source": [
    "# Write table:\n",
    "ascii.write(cut_table[high_score_targets]['KEPID'].data[:, np.newaxis], 'data/kics.csv', format='no_header')"
   ]
  },
  {
   "cell_type": "code",
   "execution_count": null,
   "metadata": {
    "collapsed": true
   },
   "outputs": [],
   "source": []
  }
 ],
 "metadata": {
  "kernelspec": {
   "display_name": "Python 3",
   "language": "python",
   "name": "python3"
  },
  "language_info": {
   "codemirror_mode": {
    "name": "ipython",
    "version": 3
   },
   "file_extension": ".py",
   "mimetype": "text/x-python",
   "name": "python",
   "nbconvert_exporter": "python",
   "pygments_lexer": "ipython3",
   "version": "3.5.2"
  }
 },
 "nbformat": 4,
 "nbformat_minor": 0
}
