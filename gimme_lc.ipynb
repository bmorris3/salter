{
 "cells": [
  {
   "cell_type": "code",
   "execution_count": 12,
   "metadata": {
    "collapsed": true
   },
   "outputs": [],
   "source": [
    "%matplotlib inline\n",
    "%config InlineBackend.figure_format = \"retina\"\n",
    "\n",
    "import matplotlib.pyplot as plt\n",
    "import numpy as np\n",
    "import kplr\n",
    "from astropy.io import ascii"
   ]
  },
  {
   "cell_type": "code",
   "execution_count": 23,
   "metadata": {
    "collapsed": false
   },
   "outputs": [],
   "source": [
    "kics = ascii.read('data/kics.csv', format='no_header')['col1']"
   ]
  },
  {
   "cell_type": "code",
   "execution_count": null,
   "metadata": {
    "collapsed": false
   },
   "outputs": [],
   "source": [
    "import h5py\n",
    "import kplr\n",
    "from astropy.utils.console import ProgressBar\n",
    "\n",
    "client = kplr.API()\n",
    "\n",
    "# Hack for interactive use with a notebook:\n",
    "try: \n",
    "    f.close()\n",
    "except (NameError, ValueError):\n",
    "    pass\n",
    "\n",
    "# Create archive\n",
    "f = h5py.File('data/light_curves.hdf5', 'w')\n",
    "\n",
    "with ProgressBar(len(kics), ipython_widget=True) as bar:\n",
    "    for kic in kics:\n",
    "        # Find a KIC\n",
    "        star = client.star(kic)\n",
    "\n",
    "        # Download the lightcurves for this KOI.\n",
    "        lightcurves = star.get_light_curves(short_cadence=False)\n",
    "\n",
    "        # Loop over the datasets and read in the data.\n",
    "        time, flux, ferr, quality = [], [], [], []\n",
    "        n_columns = 4\n",
    "        for lc in lightcurves:\n",
    "            with lc.open() as lc_file:\n",
    "                # The lightcurve data are in the first FITS HDU.\n",
    "                hdu_data = lc_file[1].data\n",
    "\n",
    "                time.append(hdu_data[\"time\"])\n",
    "                flux.append(hdu_data[\"sap_flux\"])\n",
    "                ferr.append(hdu_data[\"sap_flux_err\"])\n",
    "                quality.append(hdu_data[\"sap_quality\"])\n",
    "\n",
    "        data = np.vstack(list(map(np.concatenate, [time, flux, ferr, quality]))).T\n",
    "        f.create_dataset(str(kic), data=data)\n",
    "        f.flush()\n",
    "        bar.update()"
   ]
  },
  {
   "cell_type": "code",
   "execution_count": null,
   "metadata": {
    "collapsed": true
   },
   "outputs": [],
   "source": []
  }
 ],
 "metadata": {
  "kernelspec": {
   "display_name": "Python 3",
   "language": "python",
   "name": "python3"
  },
  "language_info": {
   "codemirror_mode": {
    "name": "ipython",
    "version": 3
   },
   "file_extension": ".py",
   "mimetype": "text/x-python",
   "name": "python",
   "nbconvert_exporter": "python",
   "pygments_lexer": "ipython3",
   "version": "3.5.2"
  }
 },
 "nbformat": 4,
 "nbformat_minor": 0
}
